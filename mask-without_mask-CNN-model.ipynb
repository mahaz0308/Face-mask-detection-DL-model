{
 "cells": [
  {
   "cell_type": "code",
   "execution_count": 1,
   "id": "subsequent-uruguay",
   "metadata": {},
   "outputs": [],
   "source": [
    "import os, shutil"
   ]
  },
  {
   "cell_type": "code",
   "execution_count": 2,
   "id": "funky-roots",
   "metadata": {},
   "outputs": [],
   "source": [
    "original_dataset_dir =\"maskdata\""
   ]
  },
  {
   "cell_type": "code",
   "execution_count": 3,
   "id": "continuous-income",
   "metadata": {},
   "outputs": [],
   "source": [
    "base_dir =\"mask_without_mask\" "
   ]
  },
  {
   "cell_type": "code",
   "execution_count": 4,
   "id": "adjacent-brisbane",
   "metadata": {},
   "outputs": [],
   "source": [
    "train_dir = os.path.join(base_dir, 'train')"
   ]
  },
  {
   "cell_type": "code",
   "execution_count": 5,
   "id": "continental-perry",
   "metadata": {},
   "outputs": [],
   "source": [
    "validation_dir = os.path.join(base_dir, 'validation')\n"
   ]
  },
  {
   "cell_type": "code",
   "execution_count": 6,
   "id": "adequate-traveler",
   "metadata": {},
   "outputs": [],
   "source": [
    "test_dir = os.path.join(base_dir, 'test')\n"
   ]
  },
  {
   "cell_type": "code",
   "execution_count": 7,
   "id": "suburban-standard",
   "metadata": {},
   "outputs": [],
   "source": [
    "train_mask_dir = os.path.join(train_dir, 'mask')\n"
   ]
  },
  {
   "cell_type": "code",
   "execution_count": 8,
   "id": "behind-place",
   "metadata": {},
   "outputs": [],
   "source": [
    "train_without_mask_dir = os.path.join(train_dir, 'without_mask')\n"
   ]
  },
  {
   "cell_type": "code",
   "execution_count": 9,
   "id": "graphic-premium",
   "metadata": {},
   "outputs": [],
   "source": [
    "validation_mask_dir = os.path.join(validation_dir, 'mask')\n"
   ]
  },
  {
   "cell_type": "code",
   "execution_count": 10,
   "id": "linear-chart",
   "metadata": {},
   "outputs": [],
   "source": [
    "validation_without_mask_dir = os.path.join(validation_dir, 'without_mask')\n"
   ]
  },
  {
   "cell_type": "code",
   "execution_count": 11,
   "id": "advised-degree",
   "metadata": {},
   "outputs": [],
   "source": [
    "test_mask_dir = os.path.join(test_dir, 'mask')\n"
   ]
  },
  {
   "cell_type": "code",
   "execution_count": 12,
   "id": "boxed-discrimination",
   "metadata": {},
   "outputs": [],
   "source": [
    "test_without_mask_dir = os.path.join(test_dir, 'without_mask')\n"
   ]
  },
  {
   "cell_type": "code",
   "execution_count": 13,
   "id": "systematic-vulnerability",
   "metadata": {},
   "outputs": [
    {
     "name": "stdout",
     "output_type": "stream",
     "text": [
      "total training mask images: 1500\n"
     ]
    }
   ],
   "source": [
    "print('total training mask images:', len(os.listdir(train_mask_dir)))"
   ]
  },
  {
   "cell_type": "code",
   "execution_count": 14,
   "id": "persistent-ethnic",
   "metadata": {},
   "outputs": [
    {
     "name": "stdout",
     "output_type": "stream",
     "text": [
      "total training without_mask images: 1500\n"
     ]
    }
   ],
   "source": [
    "print('total training without_mask images:', len(os.listdir(train_without_mask_dir)))"
   ]
  },
  {
   "cell_type": "code",
   "execution_count": 15,
   "id": "cubic-vision",
   "metadata": {},
   "outputs": [
    {
     "name": "stdout",
     "output_type": "stream",
     "text": [
      "total validation mask images: 500\n"
     ]
    }
   ],
   "source": [
    " print('total validation mask images:', len(os.listdir(validation_mask_dir)))"
   ]
  },
  {
   "cell_type": "code",
   "execution_count": 16,
   "id": "described-timothy",
   "metadata": {},
   "outputs": [
    {
     "name": "stdout",
     "output_type": "stream",
     "text": [
      "total validation without_mask images: 500\n"
     ]
    }
   ],
   "source": [
    "print('total validation without_mask images:', len(os.listdir(validation_without_mask_dir)))\n"
   ]
  },
  {
   "cell_type": "code",
   "execution_count": 17,
   "id": "vanilla-factor",
   "metadata": {},
   "outputs": [
    {
     "name": "stdout",
     "output_type": "stream",
     "text": [
      "total test mask images: 500\n"
     ]
    }
   ],
   "source": [
    "print('total test mask images:', len(os.listdir(test_mask_dir)))"
   ]
  },
  {
   "cell_type": "code",
   "execution_count": 18,
   "id": "figured-journal",
   "metadata": {},
   "outputs": [
    {
     "name": "stdout",
     "output_type": "stream",
     "text": [
      "total test without_mask images: 500\n"
     ]
    }
   ],
   "source": [
    " print('total test without_mask images:', len(os.listdir(test_without_mask_dir)))"
   ]
  },
  {
   "cell_type": "code",
   "execution_count": 19,
   "id": "proved-pattern",
   "metadata": {},
   "outputs": [],
   "source": [
    "from keras import layers\n",
    "from keras import models\n"
   ]
  },
  {
   "cell_type": "code",
   "execution_count": 20,
   "id": "ceramic-latino",
   "metadata": {},
   "outputs": [],
   "source": [
    "model = models.Sequential()"
   ]
  },
  {
   "cell_type": "code",
   "execution_count": 21,
   "id": "figured-wound",
   "metadata": {},
   "outputs": [],
   "source": [
    "model.add(layers.Conv2D(32, (3, 3), activation='relu',\n",
    "input_shape=(150, 150, 3)))\n",
    "model.add(layers.MaxPooling2D((2, 2)))\n",
    "model.add(layers.Conv2D(64, (3, 3), activation='relu'))\n",
    "model.add(layers.MaxPooling2D((2, 2)))\n",
    "model.add(layers.Conv2D(128, (3, 3), activation='relu'))\n",
    "model.add(layers.MaxPooling2D((2, 2)))\n",
    "model.add(layers.Conv2D(128, (3, 3), activation='relu'))\n",
    "model.add(layers.MaxPooling2D((2, 2)))\n",
    "model.add(layers.Flatten())\n",
    "model.add(layers.Dense(512, activation='relu'))\n",
    "model.add(layers.Dense(1, activation='sigmoid'))"
   ]
  },
  {
   "cell_type": "code",
   "execution_count": 22,
   "id": "essential-championship",
   "metadata": {},
   "outputs": [
    {
     "name": "stdout",
     "output_type": "stream",
     "text": [
      "Model: \"sequential\"\n",
      "_________________________________________________________________\n",
      "Layer (type)                 Output Shape              Param #   \n",
      "=================================================================\n",
      "conv2d (Conv2D)              (None, 148, 148, 32)      896       \n",
      "_________________________________________________________________\n",
      "max_pooling2d (MaxPooling2D) (None, 74, 74, 32)        0         \n",
      "_________________________________________________________________\n",
      "conv2d_1 (Conv2D)            (None, 72, 72, 64)        18496     \n",
      "_________________________________________________________________\n",
      "max_pooling2d_1 (MaxPooling2 (None, 36, 36, 64)        0         \n",
      "_________________________________________________________________\n",
      "conv2d_2 (Conv2D)            (None, 34, 34, 128)       73856     \n",
      "_________________________________________________________________\n",
      "max_pooling2d_2 (MaxPooling2 (None, 17, 17, 128)       0         \n",
      "_________________________________________________________________\n",
      "conv2d_3 (Conv2D)            (None, 15, 15, 128)       147584    \n",
      "_________________________________________________________________\n",
      "max_pooling2d_3 (MaxPooling2 (None, 7, 7, 128)         0         \n",
      "_________________________________________________________________\n",
      "flatten (Flatten)            (None, 6272)              0         \n",
      "_________________________________________________________________\n",
      "dense (Dense)                (None, 512)               3211776   \n",
      "_________________________________________________________________\n",
      "dense_1 (Dense)              (None, 1)                 513       \n",
      "=================================================================\n",
      "Total params: 3,453,121\n",
      "Trainable params: 3,453,121\n",
      "Non-trainable params: 0\n",
      "_________________________________________________________________\n"
     ]
    }
   ],
   "source": [
    "model.summary()"
   ]
  },
  {
   "cell_type": "code",
   "execution_count": 23,
   "id": "stretch-hobby",
   "metadata": {},
   "outputs": [],
   "source": [
    "from keras import optimizers\n",
    "model.compile(loss='binary_crossentropy',\n",
    "optimizer=optimizers.RMSprop(lr=1e-4),\n",
    "metrics=['acc'])"
   ]
  },
  {
   "cell_type": "code",
   "execution_count": 24,
   "id": "political-swaziland",
   "metadata": {},
   "outputs": [],
   "source": [
    "from keras.preprocessing.image import ImageDataGenerator"
   ]
  },
  {
   "cell_type": "code",
   "execution_count": 25,
   "id": "aggregate-society",
   "metadata": {},
   "outputs": [
    {
     "name": "stdout",
     "output_type": "stream",
     "text": [
      "Found 3000 images belonging to 2 classes.\n",
      "Found 1000 images belonging to 2 classes.\n"
     ]
    }
   ],
   "source": [
    "train_datagen = ImageDataGenerator(rescale=1./255)\n",
    "test_datagen = ImageDataGenerator(rescale=1./255)\n",
    "train_generator = train_datagen.flow_from_directory(train_dir,target_size=(150, 150),batch_size=20,class_mode='binary')\n",
    "validation_generator = test_datagen.flow_from_directory(validation_dir,target_size=(150, 150),batch_size=20,class_mode='binary')"
   ]
  },
  {
   "cell_type": "code",
   "execution_count": 26,
   "id": "changing-kuwait",
   "metadata": {},
   "outputs": [
    {
     "name": "stdout",
     "output_type": "stream",
     "text": [
      "WARNING:tensorflow:From <ipython-input-26-824d493cbeb1>:1: Model.fit_generator (from tensorflow.python.keras.engine.training) is deprecated and will be removed in a future version.\n",
      "Instructions for updating:\n",
      "Please use Model.fit, which supports generators.\n",
      "Epoch 1/20\n",
      " 29/100 [=======>......................] - ETA: 5:00 - loss: 0.5887 - acc: 0.7069"
     ]
    },
    {
     "name": "stderr",
     "output_type": "stream",
     "text": [
      "C:\\Users\\92308\\anaconda3\\envs\\tensorflow_env\\lib\\site-packages\\PIL\\Image.py:962: UserWarning: Palette images with Transparency expressed in bytes should be converted to RGBA images\n",
      "  warnings.warn(\n"
     ]
    },
    {
     "name": "stdout",
     "output_type": "stream",
     "text": [
      "100/100 [==============================] - 522s 5s/step - loss: 0.3906 - acc: 0.8370 - val_loss: 0.3003 - val_acc: 0.8767\n",
      "Epoch 2/20\n",
      "100/100 [==============================] - 448s 4s/step - loss: 0.2341 - acc: 0.9170 - val_loss: 0.3451 - val_acc: 0.8500\n",
      "Epoch 3/20\n",
      "100/100 [==============================] - 435s 4s/step - loss: 0.1965 - acc: 0.9300 - val_loss: 0.2782 - val_acc: 0.8933\n",
      "Epoch 4/20\n",
      "100/100 [==============================] - 428s 4s/step - loss: 0.1639 - acc: 0.9435 - val_loss: 0.3530 - val_acc: 0.8667\n",
      "Epoch 5/20\n",
      "100/100 [==============================] - 400s 4s/step - loss: 0.1521 - acc: 0.9445 - val_loss: 0.2896 - val_acc: 0.9133\n",
      "Epoch 6/20\n",
      "100/100 [==============================] - 460s 5s/step - loss: 0.1487 - acc: 0.9440 - val_loss: 0.2437 - val_acc: 0.9233\n",
      "Epoch 7/20\n",
      "100/100 [==============================] - 466s 5s/step - loss: 0.1228 - acc: 0.9590 - val_loss: 0.2688 - val_acc: 0.9100\n",
      "Epoch 8/20\n",
      "100/100 [==============================] - 480s 5s/step - loss: 0.1218 - acc: 0.9550 - val_loss: 0.2538 - val_acc: 0.9067\n",
      "Epoch 9/20\n",
      "100/100 [==============================] - 252s 3s/step - loss: 0.1075 - acc: 0.9625 - val_loss: 0.2480 - val_acc: 0.9200\n",
      "Epoch 10/20\n",
      "100/100 [==============================] - 248s 2s/step - loss: 0.1039 - acc: 0.9590 - val_loss: 0.2387 - val_acc: 0.9200\n",
      "Epoch 11/20\n",
      "100/100 [==============================] - 248s 2s/step - loss: 0.0965 - acc: 0.9695 - val_loss: 0.1925 - val_acc: 0.9267\n",
      "Epoch 12/20\n",
      "100/100 [==============================] - 250s 2s/step - loss: 0.0825 - acc: 0.9710 - val_loss: 0.1780 - val_acc: 0.9267\n",
      "Epoch 13/20\n",
      "100/100 [==============================] - 254s 3s/step - loss: 0.0853 - acc: 0.9670 - val_loss: 0.1987 - val_acc: 0.9200\n",
      "Epoch 14/20\n",
      "100/100 [==============================] - 299s 3s/step - loss: 0.0796 - acc: 0.9700 - val_loss: 0.1724 - val_acc: 0.9300\n",
      "Epoch 15/20\n",
      "100/100 [==============================] - 295s 3s/step - loss: 0.0689 - acc: 0.9755 - val_loss: 0.1932 - val_acc: 0.9300\n",
      "Epoch 16/20\n",
      "100/100 [==============================] - 306s 3s/step - loss: 0.0675 - acc: 0.9750 - val_loss: 0.1449 - val_acc: 0.9600\n",
      "Epoch 17/20\n",
      "100/100 [==============================] - 269s 3s/step - loss: 0.0616 - acc: 0.9795 - val_loss: 0.1574 - val_acc: 0.9367\n",
      "Epoch 18/20\n",
      "100/100 [==============================] - 261s 3s/step - loss: 0.0437 - acc: 0.9845 - val_loss: 0.1838 - val_acc: 0.9400\n",
      "Epoch 19/20\n",
      "100/100 [==============================] - 270s 3s/step - loss: 0.0474 - acc: 0.9810 - val_loss: 0.1360 - val_acc: 0.9500\n",
      "Epoch 20/20\n",
      "100/100 [==============================] - 257s 3s/step - loss: 0.0459 - acc: 0.9820 - val_loss: 0.0710 - val_acc: 0.9633\n"
     ]
    }
   ],
   "source": [
    "history = model.fit_generator(train_generator,steps_per_epoch=100,epochs=20,\n",
    "validation_data=validation_generator,validation_steps=15)"
   ]
  },
  {
   "cell_type": "code",
   "execution_count": 27,
   "id": "incomplete-relevance",
   "metadata": {},
   "outputs": [],
   "source": [
    "import matplotlib.pyplot as plt\n"
   ]
  },
  {
   "cell_type": "code",
   "execution_count": 28,
   "id": "attractive-actor",
   "metadata": {},
   "outputs": [
    {
     "data": {
      "image/png": "[encoded data removed]",
      "text/plain": [
       "<Figure size 432x288 with 1 Axes>"
      ]
     },
     "metadata": {
      "needs_background": "light"
     },
     "output_type": "display_data"
    },
    {
     "data": {
      "image/png": "[encoded data removed]",
      "text/plain": [
       "<Figure size 432x288 with 1 Axes>"
      ]
     },
     "metadata": {
      "needs_background": "light"
     },
     "output_type": "display_data"
    }
   ],
   "source": [
    "acc = history.history['acc']\n",
    "val_acc = history.history['val_acc']\n",
    "loss = history.history['loss']\n",
    "val_loss = history.history['val_loss']\n",
    "epochs = range(1, len(acc) + 1)\n",
    "plt.plot(epochs, acc, 'bo', label='Training acc')\n",
    "plt.plot(epochs, val_acc, 'b', label='Validation acc')\n",
    "plt.title('Training and validation accuracy')\n",
    "plt.legend()\n",
    "plt.figure()\n",
    "plt.plot(epochs, loss, 'bo', label='Training loss')\n",
    "plt.plot(epochs, val_loss, 'b', label='Validation loss')\n",
    "plt.title('Training and validation loss')\n",
    "plt.legend()\n",
    "plt.show()"
   ]
  },
  {
   "cell_type": "code",
   "execution_count": 29,
   "id": "adjacent-consumer",
   "metadata": {},
   "outputs": [],
   "source": [
    "model.save(\"mask_detection.h5\")"
   ]
  },
  {
   "cell_type": "code",
   "execution_count": 37,
   "id": "equipped-gateway",
   "metadata": {},
   "outputs": [
    {
     "name": "stdout",
     "output_type": "stream",
     "text": [
      "WARNING:tensorflow:8 out of the last 8 calls to <function Model.make_predict_function.<locals>.predict_function at 0x000001AC2F34C160> triggered tf.function retracing. Tracing is expensive and the excessive number of tracings could be due to (1) creating @tf.function repeatedly in a loop, (2) passing tensors with different shapes, (3) passing Python objects instead of tensors. For (1), please define your @tf.function outside of the loop. For (2), @tf.function has experimental_relax_shapes=True option that relaxes argument shapes that can avoid unnecessary retracing. For (3), please refer to https://www.tensorflow.org/tutorials/customization/performance#python_or_tensor_args and https://www.tensorflow.org/api_docs/python/tf/function for  more details.\n",
      "[[0]]\n",
      "He does not have mask\n"
     ]
    }
   ],
   "source": [
    "from keras.models import load_model\n",
    "import cv2\n",
    "import numpy as np\n",
    "\n",
    "model = load_model('mask_detection.h5')\n",
    "\n",
    "model.compile(loss='binary_crossentropy',\n",
    "              optimizer='rmsprop',\n",
    "              metrics=['accuracy'])\n",
    "\n",
    "img = cv2.imread('a.png')\n",
    "img = cv2.resize(img,(150,150))\n",
    "img = np.reshape(img,[1,150,150,3])\n",
    "\n",
    "classes = model.predict_classes(img)\n",
    "print(classes)\n",
    "if classes==1:\n",
    "    print(\"He has Mask\")\n",
    "else:\n",
    "    print(\"He does not have mask\")"
   ]
  },
  {
   "cell_type": "code",
   "execution_count": null,
   "id": "authorized-arnold",
   "metadata": {},
   "outputs": [],
   "source": []
  }
 ],
 "metadata": {
  "kernelspec": {
   "display_name": "Python 3",
   "language": "python",
   "name": "python3"
  },
  "language_info": {
   "codemirror_mode": {
    "name": "ipython",
    "version": 3
   },
   "file_extension": ".py",
   "mimetype": "text/x-python",
   "name": "python",
   "nbconvert_exporter": "python",
   "pygments_lexer": "ipython3",
   "version": "3.8.8"
  }
 },
 "nbformat": 4,
 "nbformat_minor": 5
}
